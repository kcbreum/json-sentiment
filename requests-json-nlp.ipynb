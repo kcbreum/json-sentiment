{
 "cells": [
  {
   "cell_type": "markdown",
   "metadata": {},
   "source": [
    "# Web Mining and Applied NLP (44-620)\n",
    "\n",
    "## Requests, JSON, and NLP\n",
    "\n",
    "### Student Name: Kayla\n",
    "\n",
    "#### [Github Repo] (https://github.com/kcbreum/json-sentiment)\n",
    "\n",
    "Perform the tasks described in the Markdown cells below.  When you have completed the assignment make sure your code cells have all been run (and have output beneath them) and ensure you have committed and pushed ALL of your changes to your assignment repository.\n",
    "\n",
    "Make sure you have [installed spaCy and its pipeline](https://spacy.io/usage#quickstart) and [spaCyTextBlob](https://spacy.io/universe/project/spacy-textblob)\n",
    "\n",
    "Every question that requires you to write code will have a code cell underneath it; you may either write your entire solution in that cell or write it in a python file (`.py`), then import and run the appropriate code to answer the question.\n",
    "\n",
    "This assignment requires that you write additional files (either JSON or pickle files); make sure to submit those files in your repository as well."
   ]
  },
  {
   "cell_type": "code",
   "execution_count": 13,
   "metadata": {},
   "outputs": [
    {
     "name": "stdout",
     "output_type": "stream",
     "text": [
      "All prereqs installed\n",
      "Package            Version\n",
      "------------------ -----------\n",
      "annotated-types    0.6.0\n",
      "asttokens          2.4.1\n",
      "blis               0.7.11\n",
      "catalogue          2.0.10\n",
      "certifi            2024.2.2\n",
      "charset-normalizer 3.3.2\n",
      "click              8.1.7\n",
      "cloudpathlib       0.16.0\n",
      "colorama           0.4.6\n",
      "comm               0.2.2\n",
      "confection         0.1.4\n",
      "cymem              2.0.8\n",
      "debugpy            1.8.1\n",
      "decorator          5.1.1\n",
      "en-core-web-sm     3.7.1\n",
      "executing          2.0.1\n",
      "idna               3.6\n",
      "ipykernel          6.29.4\n",
      "ipython            8.23.0\n",
      "jedi               0.19.1\n",
      "Jinja2             3.1.3\n",
      "joblib             1.3.2\n",
      "jupyter_client     8.6.1\n",
      "jupyter_core       5.7.2\n",
      "langcodes          3.3.0\n",
      "MarkupSafe         2.1.5\n",
      "matplotlib-inline  0.1.6\n",
      "murmurhash         1.0.10\n",
      "nest-asyncio       1.6.0\n",
      "nltk               3.8.1\n",
      "numpy              1.26.4\n",
      "packaging          24.0\n",
      "parso              0.8.3\n",
      "pip                24.0\n",
      "platformdirs       4.2.0\n",
      "preshed            3.0.9\n",
      "prompt-toolkit     3.0.43\n",
      "psutil             5.9.8\n",
      "pure-eval          0.2.2\n",
      "pydantic           2.6.4\n",
      "pydantic_core      2.16.3\n",
      "Pygments           2.17.2\n",
      "python-dateutil    2.9.0.post0\n",
      "pywin32            306\n",
      "pyzmq              25.1.2\n",
      "regex              2023.12.25\n",
      "requests           2.31.0\n",
      "setuptools         69.2.0\n",
      "six                1.16.0\n",
      "smart-open         6.4.0\n",
      "spacy              3.7.4\n",
      "spacy-legacy       3.0.12\n",
      "spacy-loggers      1.0.5\n",
      "spacytextblob      4.0.0\n",
      "srsly              2.4.8\n",
      "stack-data         0.6.3\n",
      "textblob           0.15.3\n",
      "thinc              8.2.3\n",
      "tornado            6.4\n",
      "tqdm               4.66.2\n",
      "traitlets          5.14.2\n",
      "typer              0.9.4\n",
      "typing_extensions  4.10.0\n",
      "urllib3            2.2.1\n",
      "wasabi             1.1.2\n",
      "wcwidth            0.2.13\n",
      "weasel             0.3.4\n"
     ]
    }
   ],
   "source": [
    "import requests\n",
    "import json\n",
    "import pickle\n",
    "import spacy\n",
    "from spacytextblob.spacytextblob import SpacyTextBlob\n",
    "\n",
    "print('All prereqs installed')\n",
    "!pip list"
   ]
  },
  {
   "cell_type": "markdown",
   "metadata": {},
   "source": [
    "### Question 1"
   ]
  },
  {
   "cell_type": "markdown",
   "metadata": {},
   "source": [
    "1. The following code accesses the [lyrics.ovh](https://lyricsovh.docs.apiary.io/#reference/0/lyrics-of-a-song/search) public api, searches for the lyrics of a song, and stores it in a dictionary object.  Write the resulting json to a file (either a JSON file or a pickle file; you choose). You will read in the contents of this file for future questions so we do not need to frequently access the API."
   ]
  },
  {
   "cell_type": "code",
   "execution_count": 14,
   "metadata": {},
   "outputs": [],
   "source": [
    "AUTHOR='Edgar Allan Poe'\n",
    "POEM = 'A Dream Within A Dream'\n",
    "\n",
    "#only certain poets and titles are available\n",
    "#to see the available poets, go to (in a web browser)\n",
    "# https://poetrydb.org/author\n",
    "#To see which poems that author has available, go to \n",
    "# https://poetrydb.org/author/AUTHOR NAME\n",
    "# e.g.: https://poetrydb.org/author/Edgar Allan Poe\n",
    "#The spaces will get handled by your web browser\n",
    "\n",
    "# A cool pythonism (introduced in Python 3): f strings\n",
    "# https://docs.python.org/3/tutorial/inputoutput.html#tut-f-strings\n",
    "URL = f'https://poetrydb.org/author,title/{AUTHOR};{POEM}'\n",
    "result = json.loads(requests.get(URL).text)\n",
    "poem = '\\n'.join(result[0]['lines']) \n",
    "\n",
    "with open('poem.json', 'w') as file:\n",
    "    json.dump(result, file)"
   ]
  },
  {
   "cell_type": "markdown",
   "metadata": {},
   "source": [
    "### Question 2"
   ]
  },
  {
   "cell_type": "markdown",
   "metadata": {},
   "source": [
    "2. Read in the contents of your file.  Print the lyrics of the song (not the entire dictionary!) and use spaCyTextBlob to perform sentiment analysis on the lyrics.  Print the polarity score of the sentiment analysis.  Given that the range of the polarity score is `[-1.0,1.0]` which corresponds to how positive or negative the text in question is, do you think the lyrics have a more positive or negative connotaion?  Answer this question in a comment in your code cell."
   ]
  },
  {
   "cell_type": "code",
   "execution_count": 15,
   "metadata": {},
   "outputs": [
    {
     "name": "stdout",
     "output_type": "stream",
     "text": [
      "Take this kiss upon the brow!\n",
      "And, in parting from you now,\n",
      "Thus much let me avow--\n",
      "You are not wrong, who deem\n",
      "That my days have been a dream:\n",
      "Yet if hope has flown away\n",
      "In a night, or in a day,\n",
      "In a vision or in none,\n",
      "Is it therefore the less _gone_?\n",
      "_All_ that we see or seem\n",
      "Is but a dream within a dream.\n",
      "\n",
      "I stand amid the roar\n",
      "Of a surf-tormented shore,\n",
      "And I hold within my hand\n",
      "Grains of the golden sand--\n",
      "How few! yet how they creep\n",
      "Through my fingers to the deep\n",
      "While I weep--while I weep!\n",
      "O God! can I not grasp\n",
      "Them with a tighter clasp?\n",
      "O God! can I not save\n",
      "_One_ from the pitiless wave?\n",
      "Is _all_ that we see or seem\n",
      "But a dream within a dream?\n",
      "Polarity Score: 0.055555555555555546\n"
     ]
    }
   ],
   "source": [
    "with open('poem.json', 'r') as file:\n",
    "    result = json.load(file)\n",
    "\n",
    "poem = '\\n'.join(result[0]['lines'])\n",
    "print(poem)\n",
    "\n",
    "nlp = spacy.load('en_core_web_sm')\n",
    "nlp.add_pipe('spacytextblob')\n",
    "\n",
    "doc = nlp(poem)\n",
    "\n",
    "polarity_score = doc._.polarity\n",
    "\n",
    "print(f\"Polarity Score: {polarity_score}\")"
   ]
  },
  {
   "cell_type": "markdown",
   "metadata": {},
   "source": [
    "### Question 3"
   ]
  },
  {
   "cell_type": "markdown",
   "metadata": {},
   "source": [
    "3. Write a function that takes an artist, song, and filename, accesses the lyrics.ovh api to get the song lyrics, and writes the results to the specified filename.  Test this function by getting the lyrics to any four songs of your choice and storing them in different files."
   ]
  },
  {
   "cell_type": "code",
   "execution_count": 16,
   "metadata": {},
   "outputs": [
    {
     "name": "stdout",
     "output_type": "stream",
     "text": [
      "Lyrics saved to shape_of_you_lyrics.txt\n",
      "Lyrics saved to love_story_lyrics.txt\n",
      "Lyrics saved to hello_lyrics.txt\n",
      "Lyrics saved to bohemian_rhapsody_lyrics.txt\n"
     ]
    }
   ],
   "source": [
    "import requests\n",
    "import json\n",
    "\n",
    "def get_lyrics(artist, song, filename):\n",
    "    url = f\"https://api.lyrics.ovh/v1/{artist}/{song}\"\n",
    "    response = requests.get(url)\n",
    "    if response.status_code == 200:\n",
    "        data = json.loads(response.content)\n",
    "        if 'lyrics' in data:\n",
    "            lyrics = data['lyrics']\n",
    "            with open(filename, 'w') as file:\n",
    "                file.write(lyrics)\n",
    "            \n",
    "            print(f\"Lyrics saved to {filename}\")\n",
    "        else:\n",
    "            print(\"Lyrics not found for the specified song.\")\n",
    "    else:\n",
    "        print(\"Error fetching lyrics. Check your input or try again later.\")\n",
    "\n",
    "get_lyrics(\"Ed Sheeran\", \"Shape of You\", \"shape_of_you_lyrics.txt\")\n",
    "get_lyrics(\"Taylor Swift\", \"Love Story\", \"love_story_lyrics.txt\")\n",
    "get_lyrics(\"Adele\", \"Hello\", \"hello_lyrics.txt\")\n",
    "get_lyrics(\"Queen\", \"Bohemian Rhapsody\", \"bohemian_rhapsody_lyrics.txt\")"
   ]
  },
  {
   "cell_type": "markdown",
   "metadata": {},
   "source": [
    "### Question 4"
   ]
  },
  {
   "cell_type": "markdown",
   "metadata": {},
   "source": [
    "4. Write a function that takes the name of a file that contains song lyrics, loads the file, performs sentiment analysis, and returns the polarity score.  Use this function to print the polarity scores (with the name of the song) of the three files you created in question 3.  Does the reported polarity match your understanding of the song's lyrics? Why or why not do you think that might be?  Answer the questions in either a comment in the code cell or a markdown cell under the code cell."
   ]
  },
  {
   "cell_type": "code",
   "execution_count": 18,
   "metadata": {},
   "outputs": [
    {
     "name": "stdout",
     "output_type": "stream",
     "text": [
      "Polarity Scores:\n",
      "Shape of You: 0.32200413223140495\n",
      "Love Story: 0.06875\n",
      "Hello: -0.15366666666666665\n",
      "Bohemian Rhapsody: -0.0029495701058200783\n"
     ]
    }
   ],
   "source": [
    "from textblob import TextBlob\n",
    "\n",
    "def get_polarity_score(filename):\n",
    "    with open(filename, 'r') as file:\n",
    "        lyrics = file.read()\n",
    "\n",
    "    blob = TextBlob(lyrics)\n",
    "    polarity_score = blob.sentiment.polarity\n",
    "    return polarity_score\n",
    "\n",
    "shape_of_you_score = get_polarity_score(\"shape_of_you_lyrics.txt\")\n",
    "love_story_score = get_polarity_score(\"love_story_lyrics.txt\")\n",
    "hello_score = get_polarity_score(\"hello_lyrics.txt\")\n",
    "bohemian_rhapsody_score = get_polarity_score(\"bohemian_rhapsody_lyrics.txt\")\n",
    "\n",
    "print(\"Polarity Scores:\")\n",
    "print(\"Shape of You:\", shape_of_you_score)\n",
    "print(\"Love Story:\", love_story_score)\n",
    "print(\"Hello:\", hello_score)\n",
    "print(\"Bohemian Rhapsody:\", bohemian_rhapsody_score)"
   ]
  },
  {
   "cell_type": "markdown",
   "metadata": {},
   "source": [
    "Some of these scores, such as Shape of You and Hello, make sense. Shape of You has a pretty positive connotation, and Hello has very sad wordings. Similarly, Love Story is a mix of being upset at the forbidden love but at the same time has all the wording of a happy love song, especially by the end, so it makes sense for its score to be fairly close to a 0. The one I'm most suprised by is Bohemian Rhapsody. When looking at the lyrics, there aren't really very many positives to the story it tells, so I assumed it would have a lower negative score."
   ]
  }
 ],
 "metadata": {
  "kernelspec": {
   "display_name": "Python 3 (ipykernel)",
   "language": "python",
   "name": "python3"
  },
  "language_info": {
   "codemirror_mode": {
    "name": "ipython",
    "version": 3
   },
   "file_extension": ".py",
   "mimetype": "text/x-python",
   "name": "python",
   "nbconvert_exporter": "python",
   "pygments_lexer": "ipython3",
   "version": "3.11.5"
  }
 },
 "nbformat": 4,
 "nbformat_minor": 4
}
